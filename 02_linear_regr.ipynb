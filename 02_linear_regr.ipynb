{
 "cells": [
  {
   "cell_type": "markdown",
   "metadata": {},
   "source": [
    "# 02_linear_regr"
   ]
  },
  {
   "cell_type": "markdown",
   "metadata": {},
   "source": [
    "1. Utwórz baseline dla zbioru danych diabetes.\n",
    "\n",
    "2. Utwórz LinearRegression dla ww zbioru.\n",
    "\n",
    "<br>Podziel dane używając train_test_split\n",
    "<br>Przetrenuj model\n",
    "<br>Wyznacz y_pred, korzystając z tej metody\n",
    "<br>Oblicz R^2 oraz RMSE <br>\n",
    "<br>\n",
    "3. Sprawdź wyniki po zastosowaniu regularyzacji Ridge i Lasso dla standardowych hyperparametrów.\n",
    "4. Sprawdź wpływ parametru alpha na Ridge i Lasso:\n",
    "<br>wykorzystaj for loop \n",
    "<br>zakres parametru alpha np.logspace(-4, 0, 50) i *np.linspace(start, stop,50)\n",
    "<br>utwórz wykresy score vs alpha\n",
    "<br>\n",
    "5. *Wykorzystaj RidgeCV oraz LassoCV do danych z pkt. 4\n",
    "6. *Porównaj wyniki (metryki)\n",
    "\n",
    "Rozwiązanie prześlij jako printscreen (jpg, pdf).\n",
    "Nazwa pliku (bez polskich znaków):\n",
    "\n",
    "Nazwisko_Imie_02.jpg\n",
    "\n"
   ]
  },
  {
   "cell_type": "code",
   "execution_count": 1,
   "metadata": {},
   "outputs": [],
   "source": [
    "import sklearn\n",
    "from sklearn.datasets import load_diabetes\n",
    "from sklearn.model_selection import train_test_split\n",
    "from sklearn.linear_model import LinearRegression, Ridge, Lasso, RidgeCV, LassoCV\n",
    "from sklearn.metrics import r2_score, mean_squared_error\n",
    "from sklearn.dummy import DummyRegressor\n",
    "from sklearn.preprocessing import StandardScaler\n",
    "\n",
    "import warnings\n",
    "import joblib\n",
    "import pandas as pd\n",
    "import numpy as np\n",
    "import matplotlib.pyplot as plt\n",
    "import statistics"
   ]
  },
  {
   "cell_type": "code",
   "execution_count": 2,
   "metadata": {},
   "outputs": [],
   "source": [
    "X, y = load_diabetes()['data'], load_diabetes()['target']\n",
    "df_result = pd.DataFrame(columns=['Model', 'Score'])"
   ]
  },
  {
   "cell_type": "markdown",
   "metadata": {},
   "source": [
    "# 1"
   ]
  },
  {
   "cell_type": "code",
   "execution_count": 3,
   "metadata": {},
   "outputs": [],
   "source": [
    "X_train, X_test, y_train, y_test = train_test_split(X, y, test_size=0.33, random_state=21)"
   ]
  },
  {
   "cell_type": "markdown",
   "metadata": {},
   "source": [
    "## What is baseline?\n",
    "\n",
    "Predicted outcome without running your dataset through any predictive model.\n",
    "\n",
    "### For regression - mean\n",
    "### For classification - mode"
   ]
  },
  {
   "cell_type": "code",
   "execution_count": 4,
   "metadata": {},
   "outputs": [
    {
     "name": "stdout",
     "output_type": "stream",
     "text": [
      "Baseline RMSE 75.04707370222472\n",
      "Baseline r2 -0.00019895737295327898\n"
     ]
    }
   ],
   "source": [
    "dummy_regr = DummyRegressor(strategy=\"mean\").fit(X_train, y_train)\n",
    "y_pred = dummy_regr.predict(X_test)\n",
    "\n",
    "print(\"Baseline RMSE\", mean_squared_error(y_test, y_pred, squared=False))\n",
    "print(\"Baseline r2\", r2_score(y_test, y_pred))\n",
    "\n",
    "df1 = pd.DataFrame({'Model':\"DummyRegressor\" ,'Score':r2_score(y_test, y_pred)},index = [0])\n",
    "df_result =pd.concat([df_result,df1],ignore_index=True)"
   ]
  },
  {
   "cell_type": "markdown",
   "metadata": {},
   "source": [
    "# 2"
   ]
  },
  {
   "cell_type": "code",
   "execution_count": 5,
   "metadata": {},
   "outputs": [],
   "source": [
    "X_train, X_test, y_train, y_test = train_test_split(X, y, test_size=0.33, random_state=21)"
   ]
  },
  {
   "cell_type": "code",
   "execution_count": 6,
   "metadata": {},
   "outputs": [
    {
     "name": "stdout",
     "output_type": "stream",
     "text": [
      "Baseline RMSE 57.262654452161655\n",
      "Baseline r2 0.4176798412098468\n"
     ]
    }
   ],
   "source": [
    "reg = LinearRegression().fit(X_train, y_train)\n",
    "y_pred = reg.predict(X_test)\n",
    "\n",
    "print(\"Baseline RMSE\", mean_squared_error(y_test, y_pred, squared=False))\n",
    "print(\"Baseline r2\", r2_score(y_test, y_pred))\n",
    "\n",
    "df1 = pd.DataFrame({'Model':\"LinearRegression\" ,'Score':r2_score(y_test, y_pred)},index = [0])\n",
    "df_result =pd.concat([df_result,df1],ignore_index=True)"
   ]
  },
  {
   "cell_type": "markdown",
   "metadata": {},
   "source": [
    "# 3"
   ]
  },
  {
   "cell_type": "code",
   "execution_count": 7,
   "metadata": {},
   "outputs": [],
   "source": [
    "scaler = StandardScaler().fit(X_train)\n",
    "X_train_std = scaler.transform(X_train)\n",
    "X_test_std = scaler.transform(X_test)"
   ]
  },
  {
   "cell_type": "code",
   "execution_count": 8,
   "metadata": {},
   "outputs": [
    {
     "name": "stdout",
     "output_type": "stream",
     "text": [
      "Baseline RMSE 57.20791912871212\n",
      "Baseline r2 0.4187925471850231\n"
     ]
    }
   ],
   "source": [
    "ridge = Ridge().fit(X_train_std, y_train)\n",
    "y_pred = ridge.predict(X_test_std)\n",
    "\n",
    "print(\"Baseline RMSE\", mean_squared_error(y_test, y_pred, squared=False))\n",
    "print(\"Baseline r2\", r2_score(y_test, y_pred))\n",
    "\n",
    "df1 = pd.DataFrame({'Model':\"Ridge\" ,'Score':r2_score(y_test, y_pred)},index = [0])\n",
    "df_result =pd.concat([df_result,df1],ignore_index=True)"
   ]
  },
  {
   "cell_type": "code",
   "execution_count": 9,
   "metadata": {},
   "outputs": [
    {
     "name": "stdout",
     "output_type": "stream",
     "text": [
      "Baseline RMSE 57.34089195344369\n",
      "Baseline r2 0.41608751552254397\n"
     ]
    }
   ],
   "source": [
    "lasso = Lasso().fit(X_train_std, y_train)\n",
    "y_pred = lasso.predict(X_test_std)\n",
    "\n",
    "print(\"Baseline RMSE\", mean_squared_error(y_test, y_pred, squared=False))\n",
    "print(\"Baseline r2\", r2_score(y_test, y_pred))\n",
    "\n",
    "df1 = pd.DataFrame({'Model':\"Lasso\" ,'Score':r2_score(y_test, y_pred)},index = [0])\n",
    "df_result =pd.concat([df_result,df1],ignore_index=True)"
   ]
  },
  {
   "cell_type": "markdown",
   "metadata": {},
   "source": [
    "# 4"
   ]
  },
  {
   "cell_type": "code",
   "execution_count": 19,
   "metadata": {},
   "outputs": [],
   "source": [
    "alpha_log = np.logspace(-4, 0,50)\n",
    "df = pd.DataFrame(columns=['Reg', 'Alpha', 'Score'])\n",
    "\n",
    "for a in alpha_log:\n",
    "    \n",
    "    ridge = Ridge(a).fit(X_train, y_train)\n",
    "    y_pred = ridge.predict(X_test)\n",
    "    score = ridge.score(X_train,y_train)\n",
    "    \n",
    "    df1 = pd.DataFrame({'Reg':\"ridge\" , 'Alpha': a, 'Score':score} ,index = [0])\n",
    "    df =pd.concat([df,df1],ignore_index=True)\n",
    "    \n",
    "    lasso = Lasso(a).fit(X_train, y_train)\n",
    "    y_pred = lasso.predict(X_test)\n",
    "    score = lasso.score(X_train,y_train)\n",
    "\n",
    "    df1 = pd.DataFrame({'Reg':\"lasso\" , 'Alpha': a, 'Score':score} ,index = [0])\n",
    "    df =pd.concat([df,df1],ignore_index=True)\n"
   ]
  },
  {
   "cell_type": "code",
   "execution_count": 20,
   "metadata": {},
   "outputs": [
    {
     "data": {
      "image/png": "[encoded data removed]",
      "text/plain": [
       "<Figure size 720x360 with 1 Axes>"
      ]
     },
     "metadata": {
      "needs_background": "light"
     },
     "output_type": "display_data"
    }
   ],
   "source": [
    "ridge = df.query(\"Reg == 'ridge'\")\n",
    "lasso = df.query(\"Reg == 'lasso'\")\n",
    "\n",
    "plt.figure(figsize=(10,5))\n",
    "plt.plot(ridge.Score, ridge.Alpha, label = \"Ridge\")\n",
    "plt.plot(lasso.Score, lasso.Alpha, label = \"Lasso\")\n",
    "plt.title(\"Score vs. Alpha\")\n",
    "plt.xlabel(\"Score\")\n",
    "plt.ylabel(\"Alpha\")\n",
    "plt.legend()\n",
    "plt.show()"
   ]
  },
  {
   "cell_type": "code",
   "execution_count": 18,
   "metadata": {},
   "outputs": [],
   "source": [
    "alpha_log = np.logspace(-4, 0,50)\n",
    "cv = list(range(2, 42, 2))\n",
    "df_cv = pd.DataFrame(columns=['Reg', 'CV', 'Score'])\n",
    "\n",
    "\n",
    "\n",
    "for c in cv:\n",
    "    \n",
    "    ridge = RidgeCV(alphas = alpha_log, cv=c).fit(X_train, y_train)\n",
    "    y_pred = ridge.predict(X_test)\n",
    "    score = ridge.score(X_train,y_train)\n",
    "    \n",
    "    df1 = pd.DataFrame({'Reg':\"ridge\" , 'CV': c, 'Score':score} ,index = [0])\n",
    "    df_cv =pd.concat([df_cv,df1],ignore_index=True)\n",
    "    \n",
    "    lasso = LassoCV(alphas = alpha_log, cv=c).fit(X_train, y_train)\n",
    "    y_pred = lasso.predict(X_test)\n",
    "    score = lasso.score(X_train,y_train)\n",
    "\n",
    "    df1 = pd.DataFrame({'Reg':\"lasso\" , 'CV': c, 'Score':score} ,index = [0])\n",
    "    df_cv =pd.concat([df_cv,df1],ignore_index=True)\n"
   ]
  },
  {
   "cell_type": "code",
   "execution_count": 13,
   "metadata": {},
   "outputs": [
    {
     "data": {
      "image/png": "[encoded data removed]",
      "text/plain": [
       "<Figure size 720x360 with 1 Axes>"
      ]
     },
     "metadata": {
      "needs_background": "light"
     },
     "output_type": "display_data"
    }
   ],
   "source": [
    "ridge_cv = df_cv.query(\"Reg == 'ridge'\")\n",
    "lasso_cv = df_cv.query(\"Reg == 'lasso'\")\n",
    "\n",
    "df1 = pd.DataFrame({'Model':\"RidgeCV\" ,'Score':statistics.mean(ridge_cv[\"Score\"])},index = [0])\n",
    "df_result =pd.concat([df_result,df1],ignore_index=True)\n",
    "\n",
    "df1 = pd.DataFrame({'Model':\"LassoCV\" ,'Score':statistics.mean(lasso_cv[\"Score\"])},index = [0])\n",
    "df_result =pd.concat([df_result,df1],ignore_index=True)\n",
    "\n",
    "\n",
    "plt.figure(figsize=(10,5))\n",
    "plt.plot(ridge_cv.Score, ridge_cv.CV, label = \"Ridge\")\n",
    "plt.plot(lasso_cv.Score, lasso_cv.CV, label = \"Lasso\")\n",
    "plt.title(\"Score vs. CV\")\n",
    "plt.xlabel(\"Score\")\n",
    "plt.ylabel(\"CV\")\n",
    "plt.legend()\n",
    "plt.show()\n",
    "\n",
    "\n",
    "\n"
   ]
  },
  {
   "cell_type": "markdown",
   "metadata": {},
   "source": [
    "# 5"
   ]
  },
  {
   "cell_type": "code",
   "execution_count": 14,
   "metadata": {},
   "outputs": [
    {
     "data": {
      "image/png": "[encoded data removed]",
      "text/plain": [
       "<Figure size 720x360 with 1 Axes>"
      ]
     },
     "metadata": {
      "needs_background": "light"
     },
     "output_type": "display_data"
    }
   ],
   "source": [
    "df_result = df_result.sort_values(by=['Score'])\n",
    "\n",
    "fig = plt.figure(figsize = (10, 5))\n",
    "plt.bar(df_result.Model, df_result.Score)\n",
    "plt.title(\"Score result for different models\")\n",
    "plt.xlabel(\"Method\")\n",
    "plt.ylabel(\"Score\")\n",
    "\n",
    "plt.show()"
   ]
  },
  {
   "cell_type": "code",
   "execution_count": null,
   "metadata": {},
   "outputs": [],
   "source": []
  }
 ],
 "metadata": {
  "kernelspec": {
   "display_name": "new-env",
   "language": "python",
   "name": "new-env"
  },
  "language_info": {
   "codemirror_mode": {
    "name": "ipython",
    "version": 3
   },
   "file_extension": ".py",
   "mimetype": "text/x-python",
   "name": "python",
   "nbconvert_exporter": "python",
   "pygments_lexer": "ipython3",
   "version": "3.9.7"
  }
 },
 "nbformat": 4,
 "nbformat_minor": 4
}
