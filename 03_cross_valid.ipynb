{
 "cells": [
  {
   "cell_type": "markdown",
   "metadata": {},
   "source": [
    "# 03_cross_valid"
   ]
  },
  {
   "cell_type": "markdown",
   "metadata": {},
   "source": [
    "1. Zaimplementuj cross validation dla datsetu wine:\n",
    "    <br>podziel go używając osobno Kfold oraz StratifiedKFold \n",
    "    <br>użyj for loop aby wyznaczyć dla każdego podzbioru: \n",
    "    <br>liczebność poszczególnych klas (np używając np.bincount)\n",
    "    <br>rozmiar zbioru train i test\n",
    "    <br>score dla zbioru train i test\n",
    "    <br>wyznacz score dla dla całego datasetu\n",
    "<br>Aby wykonać zadanie utwórz dwie osobne pętle dla Kfold i dla StratifiedKfold.\n",
    "\n",
    "2. Skorzystaj z  cros_val_score dla dotasetu z pkt.1 :\n",
    "cv=3, cv=5, cv=10\n",
    "porównaj czas wykonania CV (skorzystaj np z magic commands w JupyterNotebook)\n",
    "3. Porównaj wyniki z pkt 1, 2\n",
    "\n",
    "4. *Przygotuj kod, który będzie dzielił dataset na train, test valid. \n",
    "5. *Poczytaj o StratifiedShuffleSplit\n",
    "\n",
    "Rozwiązanie prześlij jako printscreen (jpg, pdf).\n",
    "Nazwa pliku (bez polskich znaków):\n",
    "\n",
    "Nazwisko_Imie_03.jpg\n",
    "\n"
   ]
  },
  {
   "cell_type": "code",
   "execution_count": 1,
   "metadata": {},
   "outputs": [],
   "source": [
    "import sklearn\n",
    "from sklearn.datasets import load_wine\n",
    "from sklearn.model_selection import KFold, train_test_split, StratifiedKFold\n",
    "from sklearn.metrics import accuracy_score\n",
    "from sklearn.neighbors import KNeighborsClassifier\n",
    "from sklearn.model_selection import cross_val_score\n",
    "\n",
    "import pandas as pd\n",
    "import numpy as np\n",
    "import matplotlib.pyplot as plt\n",
    "import seaborn as sns"
   ]
  },
  {
   "cell_type": "code",
   "execution_count": 2,
   "metadata": {},
   "outputs": [],
   "source": [
    "X, y = load_wine()['data'], load_wine()['target']"
   ]
  },
  {
   "cell_type": "code",
   "execution_count": 3,
   "metadata": {},
   "outputs": [],
   "source": [
    "df = pd.DataFrame(columns=['Model', 'Score'])"
   ]
  },
  {
   "cell_type": "markdown",
   "metadata": {},
   "source": [
    "# 1"
   ]
  },
  {
   "cell_type": "code",
   "execution_count": 4,
   "metadata": {
    "scrolled": false
   },
   "outputs": [
    {
     "name": "stdout",
     "output_type": "stream",
     "text": [
      "Fold number 1\n",
      "TRAIN: [  0   1   2   3   6   7   8   9  10  12  13  15  17  18  20  21  22  23\n",
      "  24  25  26  27  28  30  32  33  34  36  37  38  41  43  44  45  46  49\n",
      "  50  52  55  57  58  60  61  62  63  64  65  66  67  68  70  71  72  74\n",
      "  75  76  77  78  79  80  82  83  85  86  87  88  89  90  92  93  95  96\n",
      "  98  99 100 101 102 103 104 106 109 110 111 115 116 118 119 121 122 123\n",
      " 124 125 127 128 129 131 132 133 134 135 136 137 139 140 141 142 143 144\n",
      " 145 146 148 149 150 153 154 155 156 157 158 163 164 166 167 168 169 170\n",
      " 171 172 173 174 175 176 177]\n",
      "TEST: [  4   5  11  14  16  19  29  31  35  39  40  42  47  48  51  53  54  56\n",
      "  59  69  73  81  84  91  94  97 105 107 108 112 113 114 117 120 126 130\n",
      " 138 147 151 152 159 160 161 162 165]\n",
      "Class=0 : 59/133 (44.4%)\n",
      "Class=1 : 71/133 (53.4%)\n",
      "Class=2 : 48/133 (36.1%)\n",
      "Test size: 45\n",
      "Train size: 133\n",
      "Train score: 82.70676691729322%\n",
      "Test score: 69.0%\n",
      "\n",
      "Fold number 2\n",
      "TRAIN: [  1   3   4   5   7   8   9  10  11  14  15  16  19  20  22  23  24  25\n",
      "  26  27  29  30  31  32  34  35  37  38  39  40  41  42  43  46  47  48\n",
      "  49  50  51  52  53  54  56  57  59  60  61  62  63  64  67  68  69  71\n",
      "  72  73  74  76  79  80  81  82  83  84  86  87  91  92  94  96  97  98\n",
      " 100 101 102 103 104 105 107 108 109 110 111 112 113 114 115 116 117 119\n",
      " 120 121 122 125 126 128 129 130 131 132 133 134 137 138 139 140 141 142\n",
      " 143 144 145 146 147 149 150 151 152 153 154 155 156 157 158 159 160 161\n",
      " 162 165 167 169 174 176 177]\n",
      "TEST: [  0   2   6  12  13  17  18  21  28  33  36  44  45  55  58  65  66  70\n",
      "  75  77  78  85  88  89  90  93  95  99 106 118 123 124 127 135 136 148\n",
      " 163 164 166 168 170 171 172 173 175]\n",
      "Class=0 : 59/133 (44.4%)\n",
      "Class=1 : 71/133 (53.4%)\n",
      "Class=2 : 48/133 (36.1%)\n",
      "Test size: 45\n",
      "Train size: 133\n",
      "Train score: 78.19548872180451%\n",
      "Test score: 76.0%\n",
      "\n",
      "Fold number 3\n",
      "TRAIN: [  0   1   2   3   4   5   6   7   8  11  12  13  14  16  17  18  19  20\n",
      "  21  22  24  25  28  29  30  31  33  35  36  37  39  40  42  43  44  45\n",
      "  47  48  49  50  51  53  54  55  56  57  58  59  60  61  63  65  66  68\n",
      "  69  70  71  72  73  75  77  78  79  81  84  85  86  88  89  90  91  93\n",
      "  94  95  96  97  99 101 105 106 107 108 112 113 114 115 117 118 120 121\n",
      " 123 124 126 127 128 129 130 131 133 134 135 136 137 138 139 140 141 142\n",
      " 144 146 147 148 149 151 152 155 156 157 159 160 161 162 163 164 165 166\n",
      " 168 169 170 171 172 173 174 175]\n",
      "TEST: [  9  10  15  23  26  27  32  34  38  41  46  52  62  64  67  74  76  80\n",
      "  82  83  87  92  98 100 102 103 104 109 110 111 116 119 122 125 132 143\n",
      " 145 150 153 154 158 167 176 177]\n",
      "Class=0 : 59/134 (44.0%)\n",
      "Class=1 : 71/134 (53.0%)\n",
      "Class=2 : 48/134 (35.8%)\n",
      "Test size: 44\n",
      "Train size: 134\n",
      "Train score: 77.61194029850746%\n",
      "Test score: 70.0%\n",
      "\n",
      "Fold number 4\n",
      "TRAIN: [  0   2   4   5   6   9  10  11  12  13  14  15  16  17  18  19  21  23\n",
      "  26  27  28  29  31  32  33  34  35  36  38  39  40  41  42  44  45  46\n",
      "  47  48  51  52  53  54  55  56  58  59  62  64  65  66  67  69  70  73\n",
      "  74  75  76  77  78  80  81  82  83  84  85  87  88  89  90  91  92  93\n",
      "  94  95  97  98  99 100 102 103 104 105 106 107 108 109 110 111 112 113\n",
      " 114 116 117 118 119 120 122 123 124 125 126 127 130 132 135 136 138 143\n",
      " 145 147 148 150 151 152 153 154 158 159 160 161 162 163 164 165 166 167\n",
      " 168 170 171 172 173 175 176 177]\n",
      "TEST: [  1   3   7   8  20  22  24  25  30  37  43  49  50  57  60  61  63  68\n",
      "  71  72  79  86  96 101 115 121 128 129 131 133 134 137 139 140 141 142\n",
      " 144 146 149 155 156 157 169 174]\n",
      "Class=0 : 59/134 (44.0%)\n",
      "Class=1 : 71/134 (53.0%)\n",
      "Class=2 : 48/134 (35.8%)\n",
      "Test size: 44\n",
      "Train size: 134\n",
      "Train score: 79.8507462686567%\n",
      "Test score: 68.0%\n",
      "\n",
      "Dataset score: 71.0%\n"
     ]
    }
   ],
   "source": [
    "kf = KFold(n_splits=4, shuffle = True, random_state = 1)\n",
    "kn = KNeighborsClassifier()\n",
    "\n",
    "dataset_scores = []\n",
    "\n",
    "\n",
    "for fold_nb, (train_index, test_index) in enumerate(kf.split(X, y)):\n",
    "\n",
    "    X_train, X_test = X[train_index], X[test_index]\n",
    "    y_train, y_test = y[train_index], y[test_index]\n",
    "    \n",
    "    kn.fit(X_train, y_train)\n",
    "    dataset_scores.append(kn.score(X_test,y_test))\n",
    "    \n",
    "    \n",
    "    print(\"Fold number\", fold_nb+1)\n",
    "    print(\"TRAIN:\", train_index)\n",
    "    print(\"TEST:\", test_index)\n",
    "    \n",
    "    classes = np.unique(y_train)\n",
    "    total = len(y_train)\n",
    "    for c in classes:\n",
    "        n_examples = len(y[y==c])\n",
    "        percent = n_examples / total * 100\n",
    "        print('Class=%d : %d/%d (%.1f%%)' % (c, n_examples, total, percent))\n",
    "        \n",
    "    print(f'Test size: {len(X_test)}')\n",
    "    print(f'Train size: {len(X_train)}')\n",
    "    print(f'Train score: {kn.score(X_train,y_train)*100}%')\n",
    "    print(f'Test score: {round(kn.score(X_test,y_test),2)*100}%\\n')\n",
    "\n",
    "print(f'Dataset score: {round(np.mean(dataset_scores),2)*100}%')\n",
    "\n",
    "\n",
    "df1 = pd.DataFrame({'Model':\"KFold\" ,'Score':round(np.mean(dataset_scores),2)*100},index = [0])\n",
    "df =pd.concat([df,df1],ignore_index=True)"
   ]
  },
  {
   "cell_type": "code",
   "execution_count": 5,
   "metadata": {},
   "outputs": [
    {
     "name": "stdout",
     "output_type": "stream",
     "text": [
      "Fold number 1\n",
      "TRAIN: [  0   2   3   4   5   6   7   8   9  10  12  13  14  16  17  18  19  20\n",
      "  21  22  23  24  25  27  28  29  30  31  32  33  36  37  38  39  40  41\n",
      "  42  43  45  47  49  51  57  58  59  61  63  64  65  66  67  69  70  71\n",
      "  72  73  74  76  78  79  80  81  82  83  85  88  89  90  92  94  97  98\n",
      "  99 100 101 102 103 104 105 106 108 109 111 112 113 114 115 116 117 120\n",
      " 121 122 123 125 126 128 129 130 131 133 134 137 138 139 140 143 144 146\n",
      " 147 148 149 150 151 152 153 154 155 157 158 159 160 162 164 165 166 168\n",
      " 169 171 172 173 174 175 177]\n",
      "TEST: [  1  11  15  26  34  35  44  46  48  50  52  53  54  55  56  60  62  68\n",
      "  75  77  84  86  87  91  93  95  96 107 110 118 119 124 127 132 135 136\n",
      " 141 142 145 156 161 163 167 170 176]\n",
      "Class=0 : 59/133 (44.4%)\n",
      "Class=1 : 71/133 (53.4%)\n",
      "Class=2 : 48/133 (36.1%)\n",
      "Test size: 45\n",
      "Train size: 133\n",
      "Train score: 82.70676691729322%\n",
      "Test score: 60.0%\n",
      "\n",
      "Fold number 2\n",
      "TRAIN: [  0   1   2   3   4   5   6   9  10  11  12  13  15  16  18  19  20  21\n",
      "  23  24  25  26  28  29  31  32  34  35  38  39  41  44  45  46  47  48\n",
      "  50  52  53  54  55  56  57  58  60  62  63  64  65  66  67  68  70  71\n",
      "  72  74  75  76  77  78  79  80  81  83  84  86  87  88  91  92  93  94\n",
      "  95  96  97  99 100 102 103 104 105 106 107 110 111 113 115 117 118 119\n",
      " 121 122 124 126 127 128 129 130 131 132 133 135 136 137 138 141 142 144\n",
      " 145 146 147 148 150 151 152 154 156 158 160 161 162 163 165 166 167 168\n",
      " 169 170 171 173 174 175 176]\n",
      "TEST: [  7   8  14  17  22  27  30  33  36  37  40  42  43  49  51  59  61  69\n",
      "  73  82  85  89  90  98 101 108 109 112 114 116 120 123 125 134 139 140\n",
      " 143 149 153 155 157 159 164 172 177]\n",
      "Class=0 : 59/133 (44.4%)\n",
      "Class=1 : 71/133 (53.4%)\n",
      "Class=2 : 48/133 (36.1%)\n",
      "Test size: 45\n",
      "Train size: 133\n",
      "Train score: 78.19548872180451%\n",
      "Test score: 78.0%\n",
      "\n",
      "Fold number 3\n",
      "TRAIN: [  0   1   3   7   8   9  11  14  15  16  17  18  21  22  23  24  26  27\n",
      "  28  30  31  33  34  35  36  37  38  40  41  42  43  44  45  46  47  48\n",
      "  49  50  51  52  53  54  55  56  59  60  61  62  63  64  65  67  68  69\n",
      "  72  73  74  75  76  77  78  79  82  84  85  86  87  88  89  90  91  92\n",
      "  93  94  95  96  98 101 102 103 105 106 107 108 109 110 112 114 116 118\n",
      " 119 120 122 123 124 125 126 127 130 131 132 133 134 135 136 139 140 141\n",
      " 142 143 144 145 146 147 149 152 153 154 155 156 157 158 159 161 162 163\n",
      " 164 165 167 170 172 174 176 177]\n",
      "TEST: [  2   4   5   6  10  12  13  19  20  25  29  32  39  57  58  66  70  71\n",
      "  80  81  83  97  99 100 104 111 113 115 117 121 128 129 137 138 148 150\n",
      " 151 160 166 168 169 171 173 175]\n",
      "Class=0 : 59/134 (44.0%)\n",
      "Class=1 : 71/134 (53.0%)\n",
      "Class=2 : 48/134 (35.8%)\n",
      "Test size: 44\n",
      "Train size: 134\n",
      "Train score: 80.59701492537313%\n",
      "Test score: 75.0%\n",
      "\n",
      "Fold number 4\n",
      "TRAIN: [  1   2   4   5   6   7   8  10  11  12  13  14  15  17  19  20  22  25\n",
      "  26  27  29  30  32  33  34  35  36  37  39  40  42  43  44  46  48  49\n",
      "  50  51  52  53  54  55  56  57  58  59  60  61  62  66  68  69  70  71\n",
      "  73  75  77  80  81  82  83  84  85  86  87  89  90  91  93  95  96  97\n",
      "  98  99 100 101 104 107 108 109 110 111 112 113 114 115 116 117 118 119\n",
      " 120 121 123 124 125 127 128 129 132 134 135 136 137 138 139 140 141 142\n",
      " 143 145 148 149 150 151 153 155 156 157 159 160 161 163 164 166 167 168\n",
      " 169 170 171 172 173 175 176 177]\n",
      "TEST: [  0   3   9  16  18  21  23  24  28  31  38  41  45  47  63  64  65  67\n",
      "  72  74  76  78  79  88  92  94 102 103 105 106 122 126 130 131 133 144\n",
      " 146 147 152 154 158 162 165 174]\n",
      "Class=0 : 59/134 (44.0%)\n",
      "Class=1 : 71/134 (53.0%)\n",
      "Class=2 : 48/134 (35.8%)\n",
      "Test size: 44\n",
      "Train size: 134\n",
      "Train score: 78.35820895522389%\n",
      "Test score: 80.0%\n",
      "\n",
      "Dataset score: 73.0%\n"
     ]
    }
   ],
   "source": [
    "skf = StratifiedKFold(n_splits=4, shuffle = True, random_state = 1)\n",
    "\n",
    "kn = KNeighborsClassifier()\n",
    "\n",
    "dataset_scores = []\n",
    "\n",
    "\n",
    "for fold_nb, (train_index, test_index) in enumerate(skf.split(X, y)):\n",
    "\n",
    "    X_train, X_test = X[train_index], X[test_index]\n",
    "    y_train, y_test = y[train_index], y[test_index]\n",
    "    \n",
    "    kn.fit(X_train, y_train)\n",
    "    dataset_scores.append(kn.score(X_test,y_test))\n",
    "    \n",
    "    print(\"Fold number\", fold_nb+1)\n",
    "    print(\"TRAIN:\", train_index)\n",
    "    print(\"TEST:\", test_index)\n",
    "    \n",
    "    classes = np.unique(y_train)\n",
    "    total = len(y_train)\n",
    "    for c in classes:\n",
    "        n_examples = len(y[y==c])\n",
    "        percent = n_examples / total * 100\n",
    "        print('Class=%d : %d/%d (%.1f%%)' % (c, n_examples, total, percent))\n",
    "        \n",
    "    print(f'Test size: {len(X_test)}')\n",
    "    print(f'Train size: {len(X_train)}')\n",
    "    print(f'Train score: {kn.score(X_train,y_train)*100}%')\n",
    "    print(f'Test score: {round(kn.score(X_test,y_test),2)*100}%\\n')\n",
    "\n",
    "print(f'Dataset score: {round(np.mean(dataset_scores),2)*100}%')\n",
    "\n",
    "df1 = pd.DataFrame({'Model':\"StratifiedKFold\" ,'Score':round(np.mean(dataset_scores),2)*100},index = [0])\n",
    "df =pd.concat([df,df1],ignore_index=True)"
   ]
  },
  {
   "cell_type": "markdown",
   "metadata": {},
   "source": [
    "# 2"
   ]
  },
  {
   "cell_type": "code",
   "execution_count": 6,
   "metadata": {},
   "outputs": [
    {
     "name": "stdout",
     "output_type": "stream",
     "text": [
      "Cv: 3\n",
      "[0.61666667 0.61016949 0.76271186]\n",
      "Max:  0.7627118644067796 \n",
      "\n",
      "Cv: 5\n",
      "[0.72222222 0.66666667 0.63888889 0.65714286 0.77142857]\n",
      "Max:  0.7714285714285715 \n",
      "\n",
      "Cv: 10\n",
      "[0.66666667 0.66666667 0.61111111 0.61111111 0.61111111 0.61111111\n",
      " 0.72222222 0.66666667 0.82352941 0.76470588]\n",
      "Max:  0.8235294117647058 \n",
      "\n"
     ]
    }
   ],
   "source": [
    "kn = KNeighborsClassifier()\n",
    "\n",
    "list = [3, 5, 10]\n",
    "for i in list:\n",
    "    print(f'Cv: {i}')\n",
    "    print(cross_val_score(kn, X, y, cv=i))\n",
    "    print(\"Max: \", max(cross_val_score(kn, X, y, cv=i)), \"\\n\")\n",
    "    df1 = pd.DataFrame({'Model':f'cross_val_score cv {i}' ,'Score':round(max(cross_val_score(kn, X, y, cv=i)),2)*100},index = [0])\n",
    "    df =pd.concat([df,df1],ignore_index=True)\n",
    "        "
   ]
  },
  {
   "cell_type": "code",
   "execution_count": 7,
   "metadata": {},
   "outputs": [
    {
     "name": "stdout",
     "output_type": "stream",
     "text": [
      "[0.61666667 0.61016949 0.76271186]\n",
      "Wall time: 10.2 ms\n",
      "[0.72222222 0.66666667 0.63888889 0.65714286 0.77142857]\n",
      "Wall time: 12 ms\n",
      "[0.66666667 0.66666667 0.61111111 0.61111111 0.61111111 0.61111111\n",
      " 0.72222222 0.66666667 0.82352941 0.76470588]\n",
      "Wall time: 21 ms\n"
     ]
    }
   ],
   "source": [
    "%time print(cross_val_score(kn, X, y, cv=3))\n",
    "\n",
    "%time print(cross_val_score(kn, X, y, cv=5))\n",
    "\n",
    "%time print(cross_val_score(kn, X, y, cv=10))"
   ]
  },
  {
   "cell_type": "markdown",
   "metadata": {},
   "source": [
    "# 3"
   ]
  },
  {
   "cell_type": "code",
   "execution_count": 8,
   "metadata": {},
   "outputs": [
    {
     "data": {
      "image/png": "[encoded data removed]",
      "text/plain": [
       "<Figure size 720x360 with 1 Axes>"
      ]
     },
     "metadata": {
      "needs_background": "light"
     },
     "output_type": "display_data"
    }
   ],
   "source": [
    "fig = plt.figure(figsize = (10, 5))\n",
    "plt.bar(df.Model, df.Score,\n",
    "        width = 0.4)\n",
    "plt.title(\"Score result for different score evaluation methods\")\n",
    "plt.xlabel(\"Method\")\n",
    "plt.ylabel(\"Score in percentage\")\n",
    "\n",
    "plt.show()"
   ]
  },
  {
   "cell_type": "markdown",
   "metadata": {},
   "source": [
    "# 4"
   ]
  },
  {
   "cell_type": "code",
   "execution_count": 9,
   "metadata": {},
   "outputs": [],
   "source": [
    "from sklearn.model_selection import train_test_split\n",
    "\n",
    "X_train, X_rem, y_train, y_rem = train_test_split(X,y, train_size=0.5)\n",
    "\n",
    "X_valid, X_test, y_valid, y_test = train_test_split(X_rem,y_rem, test_size=0.5)"
   ]
  }
 ],
 "metadata": {
  "kernelspec": {
   "display_name": "new-env",
   "language": "python",
   "name": "new-env"
  },
  "language_info": {
   "codemirror_mode": {
    "name": "ipython",
    "version": 3
   },
   "file_extension": ".py",
   "mimetype": "text/x-python",
   "name": "python",
   "nbconvert_exporter": "python",
   "pygments_lexer": "ipython3",
   "version": "3.9.7"
  }
 },
 "nbformat": 4,
 "nbformat_minor": 4
}
