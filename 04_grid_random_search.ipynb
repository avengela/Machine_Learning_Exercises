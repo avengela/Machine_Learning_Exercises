{
 "cells": [
  {
   "cell_type": "markdown",
   "metadata": {},
   "source": [
    "# 04_grid_random_search"
   ]
  },
  {
   "cell_type": "markdown",
   "metadata": {},
   "source": [
    "1. Zaimplementuj GridSearchCV oraz RandomizedSearchCV dla datasetu wine. \n",
    "Uwzględnij poniższe parametry:\n",
    "estymator: LogisticRegression(solver=\"liblinear\")\n",
    "parametr C:\n",
    "min 1\n",
    "max 10 000\n",
    "liczba wystąpień 1 000 \n",
    "regularyzacja l1 oraz l2\n",
    "2. Zaimplementuj GridSearchCV (jeden na wszystkie modele) w celu znalezienia najlepszego algorytmu oraz hyperparametrów dla datasetu z pkt.1:\n",
    "wykorzystaj estymatory:\n",
    "RandomForestClassifier\n",
    "KNeighborsClassifier\n",
    "LogisticRegression\n",
    "3. Porównaj wyniki korzystając z  hyperopt-sklearn.\n",
    "\n",
    "\n"
   ]
  },
  {
   "cell_type": "code",
   "execution_count": 1,
   "metadata": {},
   "outputs": [],
   "source": [
    "import sklearn\n",
    "from sklearn.datasets import load_wine\n",
    "from sklearn.model_selection import GridSearchCV, RandomizedSearchCV, train_test_split\n",
    "from sklearn.metrics import accuracy_score\n",
    "from sklearn.neighbors import KNeighborsClassifier\n",
    "from sklearn.linear_model import LogisticRegression\n",
    "from sklearn.ensemble import RandomForestClassifier\n",
    "from sklearn.pipeline import Pipeline\n",
    "\n",
    "from hpsklearn import HyperoptEstimator, any_classifier, any_preprocessing\n",
    "from hyperopt import tpe\n",
    "\n",
    "import warnings\n",
    "import pandas as pd \n",
    "import numpy as np"
   ]
  },
  {
   "cell_type": "code",
   "execution_count": 2,
   "metadata": {},
   "outputs": [],
   "source": [
    "X, y = load_wine()['data'], load_wine()['target']"
   ]
  },
  {
   "cell_type": "markdown",
   "metadata": {},
   "source": [
    "# 1"
   ]
  },
  {
   "cell_type": "markdown",
   "metadata": {},
   "source": [
    "Exhaustive search over specified parameter values for an estimator."
   ]
  },
  {
   "cell_type": "code",
   "execution_count": 3,
   "metadata": {},
   "outputs": [
    {
     "name": "stdout",
     "output_type": "stream",
     "text": [
      "{'C': 1.6151326935030905, 'penalty': 'l2'}\n"
     ]
    }
   ],
   "source": [
    "warnings.filterwarnings(\"ignore\")\n",
    "\n",
    "param_grid = {'C': np.logspace(0, 4, 1000), 'penalty': ['l1', 'l2']}\n",
    "\n",
    "logreg = LogisticRegression(solver=\"liblinear\")\n",
    "logreg_cv = GridSearchCV(logreg, param_grid, cv=5).fit(X, y)\n",
    "\n",
    "print(logreg_cv.best_params_)"
   ]
  },
  {
   "cell_type": "markdown",
   "metadata": {},
   "source": [
    "Randomized search on hyper parameters."
   ]
  },
  {
   "cell_type": "code",
   "execution_count": 4,
   "metadata": {},
   "outputs": [
    {
     "name": "stdout",
     "output_type": "stream",
     "text": [
      "{'penalty': 'l2', 'C': 2.1693835183851844}\n"
     ]
    }
   ],
   "source": [
    "warnings.filterwarnings(\"ignore\")\n",
    "\n",
    "param_dist = {'C': np.logspace(0, 4, 1000), 'penalty': ['l1', 'l2']}\n",
    "\n",
    "logreg = LogisticRegression(solver=\"liblinear\")\n",
    "logreg_cv = RandomizedSearchCV(logreg, param_dist, cv=5, random_state=1, n_iter=1000).fit(X, y)\n",
    "\n",
    "print(logreg_cv.best_params_)"
   ]
  },
  {
   "cell_type": "markdown",
   "metadata": {},
   "source": [
    "The only difference between both the approaches is in grid search we define the combinations and do training of the model whereas in RandomizedSearchCV the model selects the combinations randomly. "
   ]
  },
  {
   "cell_type": "markdown",
   "metadata": {},
   "source": [
    "# 2"
   ]
  },
  {
   "cell_type": "markdown",
   "metadata": {},
   "source": [
    "The purpose of the pipeline is to assemble several steps that can be cross-validated together while setting different parameters."
   ]
  },
  {
   "cell_type": "code",
   "execution_count": 5,
   "metadata": {},
   "outputs": [],
   "source": [
    "pipe = Pipeline([(\"classifier\", RandomForestClassifier())])"
   ]
  },
  {
   "cell_type": "code",
   "execution_count": 8,
   "metadata": {},
   "outputs": [],
   "source": [
    "search_space = [\n",
    "    {\"classifier\": [RandomForestClassifier()],\n",
    "     \"classifier__n_estimators\": [10, 50, 100],\n",
    "     \"classifier__max_features\": [1, 2, 3]},\n",
    "    {\"classifier\": [KNeighborsClassifier()],\n",
    "     \"classifier__n_neighbors\": range(1, 10, 1),\n",
    "     \"classifier__leaf_size\": [30, 60, 90]},\n",
    "    {\"classifier\": [LogisticRegression()],\n",
    "     \"classifier__penalty\": [\"l1\", \"l2\"],\n",
    "     \"classifier__C\": np.logspace(0, 4, 10)}\n",
    "]"
   ]
  },
  {
   "cell_type": "code",
   "execution_count": 9,
   "metadata": {},
   "outputs": [],
   "source": [
    "gridsearch = GridSearchCV(pipe, search_space, cv=5, verbose=1, n_jobs=-1)"
   ]
  },
  {
   "cell_type": "code",
   "execution_count": 10,
   "metadata": {},
   "outputs": [
    {
     "name": "stdout",
     "output_type": "stream",
     "text": [
      "Fitting 5 folds for each of 56 candidates, totalling 280 fits\n"
     ]
    }
   ],
   "source": [
    "best_model = gridsearch.fit(X, y)"
   ]
  },
  {
   "cell_type": "code",
   "execution_count": 11,
   "metadata": {},
   "outputs": [
    {
     "name": "stdout",
     "output_type": "stream",
     "text": [
      "RandomForestClassifier(max_features=2)\n"
     ]
    }
   ],
   "source": [
    "print(best_model.best_estimator_.get_params()[\"classifier\"])"
   ]
  },
  {
   "cell_type": "markdown",
   "metadata": {},
   "source": [
    "# 3"
   ]
  },
  {
   "cell_type": "code",
   "execution_count": 12,
   "metadata": {},
   "outputs": [],
   "source": [
    "X_train, X_test, y_train, y_test = train_test_split(X, y, test_size=0.33, random_state=42)"
   ]
  },
  {
   "cell_type": "code",
   "execution_count": 13,
   "metadata": {},
   "outputs": [],
   "source": [
    "model = HyperoptEstimator()"
   ]
  },
  {
   "cell_type": "code",
   "execution_count": 14,
   "metadata": {},
   "outputs": [
    {
     "name": "stdout",
     "output_type": "stream",
     "text": [
      "100%|█████████████████████████████████████████████████| 1/1 [00:01<00:00,  1.09s/trial, best loss: 0.04166666666666663]\n",
      "100%|█████████████████████████████████████████████████| 2/2 [00:01<00:00,  1.05s/trial, best loss: 0.04166666666666663]\n",
      "100%|█████████████████████████████████████████████████| 3/3 [00:01<00:00,  1.68s/trial, best loss: 0.04166666666666663]\n",
      "100%|█████████████████████████████████████████████████| 4/4 [00:02<00:00,  2.56s/trial, best loss: 0.04166666666666663]\n",
      "100%|█████████████████████████████████████████████████| 5/5 [00:01<00:00,  1.18s/trial, best loss: 0.04166666666666663]\n",
      "100%|█████████████████████████████████████████████████| 6/6 [00:01<00:00,  1.18s/trial, best loss: 0.04166666666666663]\n",
      "100%|█████████████████████████████████████████████████| 7/7 [00:01<00:00,  1.15s/trial, best loss: 0.04166666666666663]\n",
      "100%|█████████████████████████████████████████████████| 8/8 [00:01<00:00,  1.59s/trial, best loss: 0.04166666666666663]\n",
      "100%|█████████████████████████████████████████████████| 9/9 [00:01<00:00,  1.08s/trial, best loss: 0.04166666666666663]\n",
      "100%|███████████████████████████████████████████████| 10/10 [00:01<00:00,  1.66s/trial, best loss: 0.04166666666666663]\n"
     ]
    }
   ],
   "source": [
    "model.fit(X_train, y_train)"
   ]
  },
  {
   "cell_type": "code",
   "execution_count": 15,
   "metadata": {},
   "outputs": [
    {
     "name": "stdout",
     "output_type": "stream",
     "text": [
      "Accuracy: 0.898\n"
     ]
    }
   ],
   "source": [
    "acc = model.score(X_test, y_test)\n",
    "print(\"Accuracy: %.3f\" % acc)"
   ]
  },
  {
   "cell_type": "code",
   "execution_count": 16,
   "metadata": {},
   "outputs": [
    {
     "name": "stdout",
     "output_type": "stream",
     "text": [
      "{'learner': RandomForestClassifier(max_depth=3, max_features=0.9611671660778067,\n",
      "                       min_samples_leaf=14, n_estimators=30, n_jobs=1,\n",
      "                       random_state=2, verbose=False), 'preprocs': (StandardScaler(with_std=False),), 'ex_preprocs': ()}\n"
     ]
    }
   ],
   "source": [
    "print(model.best_model())"
   ]
  }
 ],
 "metadata": {
  "kernelspec": {
   "display_name": "mlproject",
   "language": "python",
   "name": "mlproject"
  },
  "language_info": {
   "codemirror_mode": {
    "name": "ipython",
    "version": 3
   },
   "file_extension": ".py",
   "mimetype": "text/x-python",
   "name": "python",
   "nbconvert_exporter": "python",
   "pygments_lexer": "ipython3",
   "version": "3.9.7"
  }
 },
 "nbformat": 4,
 "nbformat_minor": 4
}
