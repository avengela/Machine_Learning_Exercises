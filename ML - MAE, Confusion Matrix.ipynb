{
 "cells": [
  {
   "cell_type": "markdown",
   "metadata": {
    "slideshow": {
     "slide_type": "slide"
    }
   },
   "source": [
    "# Metrics (MSE, MAE, confusion matrix)"
   ]
  },
  {
   "cell_type": "code",
   "execution_count": null,
   "metadata": {},
   "outputs": [],
   "source": []
  },
  {
   "cell_type": "markdown",
   "metadata": {
    "slideshow": {
     "slide_type": "slide"
    }
   },
   "source": [
    "## Confusion Matrix\n",
    "\n",
    "- to know the performance of CLASSIFICATION\n",
    "- comparision beetween ACTUAL and PREDICTED values\n",
    "- matrix number of rows and columns depends of NUMBER OF CLASSES"
   ]
  },
  {
   "cell_type": "code",
   "execution_count": 1,
   "metadata": {
    "slideshow": {
     "slide_type": "slide"
    }
   },
   "outputs": [
    {
     "name": "stdout",
     "output_type": "stream",
     "text": [
      "Confusion matrix : n [[5 3]\n",
      " [2 5]]\n",
      "Outcome values : n 5 3 2 5\n"
     ]
    }
   ],
   "source": [
    "# Creation of confusion matrix in using sklearn\n",
    "from sklearn.metrics import confusion_matrix\n",
    "\n",
    "#Let actual value be 1 for apple and 0 grapes for our example\n",
    "ACTUAL = [1,1,1,1,1,1,1,1,0,0,0,0,0,0,0]\n",
    "\n",
    "# Let the predicted values be\n",
    "PREDICTION= [1,0,0,0,1,1,1,1,0,0,0,0,0,1,1]\n",
    "\n",
    "# Confusion matrix for actual and predicted values.\n",
    "matrix = confusion_matrix(ACTUAL,PREDICTION, labels=[1,0])\n",
    "print('Confusion matrix : n',matrix)\n",
    "\n",
    "# outcome values order in sklearn\n",
    "TP, FN, FP, TN = confusion_matrix(ACTUAL,PREDICTION,labels=[1,0]).reshape(-1)\n",
    "print('Outcome values : n', TP, FN, FP, TN)"
   ]
  },
  {
   "cell_type": "markdown",
   "metadata": {
    "slideshow": {
     "slide_type": "subslide"
    }
   },
   "source": [
    "### How to read it?\n",
    "\n",
    "- we are looking for 4 values, for each class\n",
    "    - TP, true positive is Actual = Predicted\n",
    "    - FP, false positive is Actual <> Predicted\n",
    "    - TN, true negative is Actual of different class = Predicted\n",
    "    - FN, false negative is Actual of different class <> Predicted"
   ]
  },
  {
   "cell_type": "code",
   "execution_count": 2,
   "metadata": {
    "scrolled": false,
    "slideshow": {
     "slide_type": "slide"
    }
   },
   "outputs": [
    {
     "name": "stdout",
     "output_type": "stream",
     "text": [
      "[[25  0  1]\n",
      " [ 2 17  8]\n",
      " [ 3 10  6]] \n",
      "\n",
      "Accuracy Score : 0.6666666666666666 \n",
      "\n",
      "Classification Report : \n",
      "              precision    recall  f1-score   support\n",
      "\n",
      "           0       0.83      0.96      0.89        26\n",
      "           1       0.63      0.63      0.63        27\n",
      "           2       0.40      0.32      0.35        19\n",
      "\n",
      "    accuracy                           0.67        72\n",
      "   macro avg       0.62      0.64      0.63        72\n",
      "weighted avg       0.64      0.67      0.65        72\n",
      "\n"
     ]
    }
   ],
   "source": [
    "# for wine database\n",
    "\n",
    "from sklearn.datasets import load_wine\n",
    "X, y = load_wine()['data'], load_wine()['target']\n",
    "\n",
    "#spliting data and using a classifier\n",
    "from sklearn.neighbors import KNeighborsClassifier\n",
    "from sklearn.model_selection import train_test_split\n",
    "\n",
    "X_train, X_test, y_train, y_test = train_test_split(X, y, test_size=0.4, random_state=42)\n",
    "knn = KNeighborsClassifier(n_neighbors = 8).fit(X_train, y_train)\n",
    "\n",
    "y_pred = knn.predict(X_test)\n",
    "\n",
    "#confusion matrix\n",
    "from sklearn.metrics import confusion_matrix, classification_report, accuracy_score\n",
    "print(confusion_matrix(y_test, y_pred),'\\n')\n",
    "\n",
    "\n",
    "print ('Accuracy Score :',accuracy_score(y_test, y_pred), '\\n')\n",
    "\n",
    "print('Classification Report : ')\n",
    "print (classification_report(y_test, y_pred))\n"
   ]
  },
  {
   "cell_type": "markdown",
   "metadata": {
    "slideshow": {
     "slide_type": "subslide"
    }
   },
   "source": [
    "   0    1   2\n",
    "<br>0 [[25  0  1]\n",
    "<br>1 [ 2 17  8]\n",
    "<br>2 [ 3 10  6]]\n",
    " \n",
    " ### How to read that?\n",
    " \n",
    " Let's take class **<font color='red'>0</font>**\n",
    " \n",
    "**TP, true positive is Actual = Predicted**\n",
    " \n",
    " 0 meets 0 -> 25\n",
    " \n",
    "**FP, false positive is Actual <> Predicted**\n",
    "\n",
    "Row 0 but 1 and 2 in columns -> 0 + 1 = 1\n",
    "\n",
    "**TN, true negative is Actual of different class = Predicted**\n",
    "\n",
    "Rows 1 and 2 but 0 in column -> 2 + 3 = 5\n",
    "\n",
    "**FN, false negative is Actual of different class <> Predicted**\n",
    "\n",
    "Rows 1 and 2 and columns 1 and 2 -> 17 + 8 + 10 + 6 = 41\n"
   ]
  },
  {
   "cell_type": "markdown",
   "metadata": {
    "slideshow": {
     "slide_type": "subslide"
    }
   },
   "source": [
    "**Accuracy** = (TP + TN) / (TP + TN + FP + FN) \n",
    "\n",
    "True divided by all results\n",
    "\n",
    "**Recall**  = TP / (TP + FN) \n",
    "\n",
    "How many yes are predicted as yes?\n",
    "\n",
    "**Precision** = TP / (TP + FP)\n",
    "\n",
    "How often predicting yes is correct?\n",
    "\n",
    "**F-score** = (2* Recall* Precision)/(Recall + Precision)"
   ]
  },
  {
   "cell_type": "markdown",
   "metadata": {
    "slideshow": {
     "slide_type": "skip"
    }
   },
   "source": [
    "### Sources:\n",
    "##### Confusion matrix\n",
    "https://www.analyticsvidhya.com/blog/2021/06/confusion-matrix-for-multi-class-classification/\n",
    "https://towardsdatascience.com/decoding-the-confusion-matrix-bb4801decbb"
   ]
  },
  {
   "cell_type": "code",
   "execution_count": null,
   "metadata": {},
   "outputs": [],
   "source": []
  }
 ],
 "metadata": {
  "celltoolbar": "Slideshow",
  "kernelspec": {
   "display_name": "new-env",
   "language": "python",
   "name": "new-env"
  },
  "language_info": {
   "codemirror_mode": {
    "name": "ipython",
    "version": 3
   },
   "file_extension": ".py",
   "mimetype": "text/x-python",
   "name": "python",
   "nbconvert_exporter": "python",
   "pygments_lexer": "ipython3",
   "version": "3.9.7"
  }
 },
 "nbformat": 4,
 "nbformat_minor": 4
}
