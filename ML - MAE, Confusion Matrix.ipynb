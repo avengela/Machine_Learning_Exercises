{
 "cells": [
  {
   "cell_type": "markdown",
   "metadata": {
    "slideshow": {
     "slide_type": "slide"
    }
   },
   "source": [
    "# Metrics (confusion matrix, MSE, MAE)"
   ]
  },
  {
   "cell_type": "markdown",
   "metadata": {
    "slideshow": {
     "slide_type": "slide"
    }
   },
   "source": [
    "## Confusion Matrix\n",
    "\n",
    "- to know the performance of CLASSIFICATION\n",
    "- comparision beetween ACTUAL and PREDICTED values\n",
    "- matrix number of rows and columns depends of NUMBER OF CLASSES"
   ]
  },
  {
   "cell_type": "code",
   "execution_count": 6,
   "metadata": {
    "slideshow": {
     "slide_type": "slide"
    }
   },
   "outputs": [
    {
     "name": "stdout",
     "output_type": "stream",
     "text": [
      "Confusion matrix : n [[5 3]\n",
      " [2 5]]\n",
      "Outcome values : n 5 3 2 5\n"
     ]
    }
   ],
   "source": [
    "# Creation of confusion matrix in using sklearn\n",
    "from sklearn.metrics import confusion_matrix\n",
    "\n",
    "#Let actual value be 1 for apple and 0 grapes for our example\n",
    "ACTUAL = [1,1,1,1,1,1,1,1,0,0,0,0,0,0,0]\n",
    "\n",
    "# Let the predicted values be\n",
    "PREDICTION= [1,0,0,0,1,1,1,1,0,0,0,0,0,1,1]\n",
    "\n",
    "# Confusion matrix for actual and predicted values.\n",
    "matrix = confusion_matrix(ACTUAL,PREDICTION, labels=[1,0])\n",
    "print('Confusion matrix : n',matrix)\n",
    "\n",
    "# outcome values order in sklearn\n",
    "TP, FN, FP, TN = confusion_matrix(ACTUAL,PREDICTION,labels=[1,0]).reshape(-1)\n",
    "print('Outcome values : n', TP, FN, FP, TN)"
   ]
  },
  {
   "cell_type": "markdown",
   "metadata": {
    "slideshow": {
     "slide_type": "subslide"
    }
   },
   "source": [
    "### How to read it?\n",
    "\n",
    "- we are looking for 4 values, for each class\n",
    "    - TP, true positive is Actual = Predicted\n",
    "    - FP, false positive is Actual <> Predicted\n",
    "    - TN, true negative is Actual of different class = Predicted\n",
    "    - FN, false negative is Actual of different class <> Predicted"
   ]
  },
  {
   "cell_type": "code",
   "execution_count": 7,
   "metadata": {
    "scrolled": false,
    "slideshow": {
     "slide_type": "slide"
    }
   },
   "outputs": [
    {
     "name": "stdout",
     "output_type": "stream",
     "text": [
      "[[25  0  1]\n",
      " [ 2 17  8]\n",
      " [ 3 10  6]] \n",
      "\n",
      "Accuracy Score : 0.6666666666666666 \n",
      "\n",
      "Classification Report : \n",
      "              precision    recall  f1-score   support\n",
      "\n",
      "           0       0.83      0.96      0.89        26\n",
      "           1       0.63      0.63      0.63        27\n",
      "           2       0.40      0.32      0.35        19\n",
      "\n",
      "    accuracy                           0.67        72\n",
      "   macro avg       0.62      0.64      0.63        72\n",
      "weighted avg       0.64      0.67      0.65        72\n",
      "\n"
     ]
    }
   ],
   "source": [
    "# for wine database\n",
    "\n",
    "from sklearn.datasets import load_wine\n",
    "X, y = load_wine()['data'], load_wine()['target']\n",
    "\n",
    "#spliting data and using a classifier\n",
    "from sklearn.neighbors import KNeighborsClassifier\n",
    "from sklearn.model_selection import train_test_split\n",
    "\n",
    "X_train, X_test, y_train, y_test = train_test_split(X, y, test_size=0.4, random_state=42)\n",
    "knn = KNeighborsClassifier(n_neighbors = 8).fit(X_train, y_train)\n",
    "\n",
    "y_pred = knn.predict(X_test)\n",
    "\n",
    "#confusion matrix\n",
    "from sklearn.metrics import confusion_matrix, classification_report, accuracy_score\n",
    "print(confusion_matrix(y_test, y_pred),'\\n')\n",
    "\n",
    "\n",
    "print ('Accuracy Score :',accuracy_score(y_test, y_pred), '\\n')\n",
    "\n",
    "print('Classification Report : ')\n",
    "print (classification_report(y_test, y_pred))\n"
   ]
  },
  {
   "cell_type": "markdown",
   "metadata": {
    "slideshow": {
     "slide_type": "subslide"
    }
   },
   "source": [
    " ### How to read that?\n",
    " \n",
    " Let's take class **<font color='red'>0</font>**\n",
    " \n",
    "**TP, true positive is Actual = Predicted**\n",
    " \n",
    " 0 meets 0 -> 25\n",
    " \n",
    "**FP, false positive is Actual <> Predicted**\n",
    "\n",
    "Row 0 but 1 and 2 in columns -> 0 + 1 = 1\n",
    "\n",
    "**TN, true negative is Actual of different class = Predicted**\n",
    "\n",
    "Rows 1 and 2 but 0 in column -> 2 + 3 = 5\n",
    "\n",
    "**FN, false negative is Actual of different class <> Predicted**\n",
    "\n",
    "Rows 1 and 2 and columns 1 and 2 -> 17 + 8 + 10 + 6 = 41\n"
   ]
  },
  {
   "cell_type": "code",
   "execution_count": 12,
   "metadata": {},
   "outputs": [
    {
     "data": {
      "text/plain": [
       "array([0, 0, 1, 0, 1, 0, 1, 2, 2, 0, 0, 1, 0, 1, 0, 1, 1, 1, 0, 1, 0, 1,\n",
       "       2, 1, 1, 1, 1, 2, 1, 0, 0, 1, 0, 0, 0, 0, 2, 1, 2, 1, 0, 1, 1, 2,\n",
       "       2, 0, 2, 1, 2, 0, 1, 0, 0, 2, 1, 2, 0, 0, 1, 0, 1, 1, 2, 2, 0, 0,\n",
       "       0, 0, 2, 0, 0, 1])"
      ]
     },
     "execution_count": 12,
     "metadata": {},
     "output_type": "execute_result"
    }
   ],
   "source": [
    "y_pred"
   ]
  },
  {
   "cell_type": "code",
   "execution_count": 8,
   "metadata": {
    "slideshow": {
     "slide_type": "subslide"
    }
   },
   "outputs": [
    {
     "data": {
      "text/plain": [
       "<sklearn.metrics._plot.confusion_matrix.ConfusionMatrixDisplay at 0x2cbf9362e80>"
      ]
     },
     "execution_count": 8,
     "metadata": {},
     "output_type": "execute_result"
    },
    {
     "data": {
      "image/png": "[encoded data removed]",
      "text/plain": [
       "<Figure size 432x288 with 2 Axes>"
      ]
     },
     "metadata": {
      "needs_background": "light"
     },
     "output_type": "display_data"
    }
   ],
   "source": [
    "from sklearn.metrics import confusion_matrix, ConfusionMatrixDisplay, classification_report\n",
    "target_names = [0,1,2]\n",
    "disp = ConfusionMatrixDisplay(confusion_matrix=confusion_matrix(y_test, y_pred), display_labels=target_names)\n",
    "disp.plot() "
   ]
  },
  {
   "cell_type": "markdown",
   "metadata": {
    "slideshow": {
     "slide_type": "subslide"
    }
   },
   "source": [
    "**Accuracy** = (TP + TN) / (TP + TN + FP + FN) \n",
    "\n",
    "True divided by all results\n",
    "\n",
    "**Recall**  = TP / (TP + FN) \n",
    "\n",
    "How many yes are predicted as yes?\n",
    "\n",
    "**Precision** = TP / (TP + FP)\n",
    "\n",
    "How often predicting yes is correct?\n",
    "\n",
    "**F-score** = (2* Recall* Precision)/(Recall + Precision)"
   ]
  },
  {
   "cell_type": "markdown",
   "metadata": {
    "slideshow": {
     "slide_type": "skip"
    }
   },
   "source": [
    "### Sources:\n",
    "##### Confusion matrix\n",
    "https://www.analyticsvidhya.com/blog/2021/06/confusion-matrix-for-multi-class-classification/\n",
    "https://towardsdatascience.com/decoding-the-confusion-matrix-bb4801decbb"
   ]
  },
  {
   "cell_type": "markdown",
   "metadata": {
    "slideshow": {
     "slide_type": "slide"
    }
   },
   "source": [
    "## Mae (Mean absolute error):\n",
    "\n",
    "- measures the average magnitude of the errors in a set of forecasts, without considering their direction,\n",
    "- measures accuracy for continuous variable and the equation is given in the library references,\n",
    "- is the average over the verification sample of the absolute values of the differences between forecast and the corresponding observation,\n",
    "- is a linear score which means that all the individual differences are weighted equally in the average.\n",
    "\n",
    "\n"
   ]
  },
  {
   "cell_type": "code",
   "execution_count": 5,
   "metadata": {
    "slideshow": {
     "slide_type": "slide"
    }
   },
   "outputs": [
    {
     "name": "stdout",
     "output_type": "stream",
     "text": [
      "MAE PREDICTION : 0.8333333333333334\n"
     ]
    }
   ],
   "source": [
    "# Calculating the MAE with a custom function using numpy\n",
    "import numpy as np\n",
    "\n",
    "#def mae funtion with two arrays \n",
    "def mae(y_true, predictions):\n",
    "    y_true, predictions = np.array(y_true), np.array(predictions)\n",
    "    return np.mean(np.abs(y_true - predictions))\n",
    "\n",
    "# numpy arrays\n",
    "true = [1,2,3,4,5,6]\n",
    "predicted = [1,3,4,4,5,9]\n",
    "\n",
    "# mae calculation\n",
    "print(\"MAE PREDICTION :\", mae(true, predicted))"
   ]
  },
  {
   "cell_type": "markdown",
   "metadata": {
    "slideshow": {
     "slide_type": "subslide"
    }
   },
   "source": [
    "## Let’s break down what we did here:\n",
    "\n",
    "1. We imported numpy to make use of its array methods\n",
    "2. We defined a function mae, that takes two arrays (true valuse and predictions)\n",
    "3. We converted the two arrays into Numpy arrays\n",
    "4. We calculated the mean of the absolute differences between iterative values in the arrays"
   ]
  },
  {
   "cell_type": "markdown",
   "metadata": {
    "slideshow": {
     "slide_type": "slide"
    }
   },
   "source": [
    "# Sklearn to Calculate the Mean Absolute Error (MAE)"
   ]
  },
  {
   "cell_type": "code",
   "execution_count": 2,
   "metadata": {
    "slideshow": {
     "slide_type": "slide"
    }
   },
   "outputs": [
    {
     "name": "stdout",
     "output_type": "stream",
     "text": [
      "MAE:  0.8333333333333334\n"
     ]
    }
   ],
   "source": [
    "# Creation of MAE  using sklearn\n",
    "import numpy as np\n",
    "from sklearn.metrics import mean_absolute_error\n",
    "\n",
    "#Let true value be numbers from 1 to 6\n",
    "true = [1,2,3,4,5,6]\n",
    "\n",
    "# Let the predicted values be\n",
    "predicted = [1,3,4,4,5,9]\n",
    "\n",
    "# predicted values\n",
    "print(\"MAE: \", mean_absolute_error(true, predicted))"
   ]
  },
  {
   "cell_type": "code",
   "execution_count": 9,
   "metadata": {
    "slideshow": {
     "slide_type": "subslide"
    }
   },
   "outputs": [
    {
     "data": {
      "image/png": "[encoded data removed]",
      "text/plain": [
       "<Figure size 432x288 with 1 Axes>"
      ]
     },
     "metadata": {
      "needs_background": "light"
     },
     "output_type": "display_data"
    }
   ],
   "source": [
    "#We can visualize them in a plot to check the difference visually.\n",
    "import matplotlib.pyplot as plt\n",
    "x = list(range(len(true)))\n",
    "\n",
    "plt.scatter(x, true, color=\"blue\", label=\"original\")\n",
    "plt.plot(x, predicted, color=\"red\", label=\"predicted\")\n",
    "plt.legend()\n",
    "plt.show() \n",
    " \n"
   ]
  },
  {
   "cell_type": "markdown",
   "metadata": {
    "slideshow": {
     "slide_type": "slide"
    }
   },
   "source": [
    "# MSE (Mean squared error):\n",
    "\n",
    "- measures the amount of error in statistical models,\n",
    "- it assesses the average squared difference between the observed and predicted values,\n",
    "- when a model has no error, the MSE equals zero. As model error increases, its value increases\n"
   ]
  },
  {
   "cell_type": "markdown",
   "metadata": {
    "slideshow": {
     "slide_type": "subslide"
    }
   },
   "source": [
    "## Steps to find the MSE:\n",
    "\n",
    "1. Find the equation for the regression line.\n",
    "    \\begin{equation*}   \\hat{Y}_i = \\hat{\\beta}_0 + \\hat{\\beta}_1 X_i + \\hat{\\epsilon}_i   \\end{equation*} \n",
    "\n",
    "\n",
    "2. Insert X values in the equation found in step 1 in order to get the respective Y values i.e.\n",
    "  \\begin{equation*} \\hat{Y}_i \\end{equation*}  \n",
    "\n",
    "\n",
    "3. Now subtract the new Y values from the original Y values. Thus, found values are the error terms. It is also known as the vertical distance of the given point from the regression line.\n",
    "   \\begin{equation*}  Y_i - \\hat{Y}_i  \\end{equation*} \n",
    "\n",
    "\n",
    "4. Square the errors found in step 3.\n",
    "   \\begin{equation*}  {(Y_i - \\hat{Y}_i)}^2  \\end{equation*} \n",
    "\n",
    "\n",
    "5. Sum up all the squares.\n",
    "   \\begin{equation*}  \\sum_{i=1}^{N}(Y_i - \\hat{Y}_i)^2  \\end{equation*} \n",
    "\n",
    "\n",
    "6. Divide the value found in step 5 by the total number of observations.\n",
    "   \\begin{equation*}  MSE = \\frac{1}{N}\\sum_{i=1}^{N}(Y_i - \\hat{Y}_i)^2  \\end{equation*} "
   ]
  },
  {
   "cell_type": "markdown",
   "metadata": {
    "slideshow": {
     "slide_type": "slide"
    }
   },
   "source": [
    "## MSE using Numpy module:"
   ]
  },
  {
   "cell_type": "code",
   "execution_count": 10,
   "metadata": {
    "slideshow": {
     "slide_type": "subslide"
    }
   },
   "outputs": [
    {
     "name": "stdout",
     "output_type": "stream",
     "text": [
      "MSE:  0.21606\n"
     ]
    }
   ],
   "source": [
    "import numpy as np\n",
    "\n",
    "# Given values\n",
    "Y_true = [1,1,2,2,4] \n",
    "\n",
    "# Calculated values\n",
    "Y_pred = [0.6,1.29,1.99,2.69,3.4] \n",
    "\n",
    "# Mean Squared Error\n",
    "MSE = np.square(np.subtract(Y_true,Y_pred)).mean()\n",
    "\n",
    "print(\"MSE: \", MSE)"
   ]
  },
  {
   "cell_type": "markdown",
   "metadata": {
    "slideshow": {
     "slide_type": "slide"
    }
   },
   "source": [
    "## MSE using scikit – learn:"
   ]
  },
  {
   "cell_type": "code",
   "execution_count": 12,
   "metadata": {
    "slideshow": {
     "slide_type": "subslide"
    }
   },
   "outputs": [
    {
     "name": "stdout",
     "output_type": "stream",
     "text": [
      "MSE:  0.21606\n"
     ]
    }
   ],
   "source": [
    "from sklearn.metrics import mean_squared_error\n",
    "\n",
    "# Given values\n",
    "Y_true = [1,1,2,2,4] \n",
    "\n",
    "# calculated values\n",
    "Y_pred = [0.6,1.29,1.99,2.69,3.4] \n",
    "\n",
    "# Calculation of Mean Squared Error (MSE)\n",
    "\n",
    "print(\"MSE: \", mean_squared_error(Y_true,Y_pred))\n"
   ]
  },
  {
   "cell_type": "code",
   "execution_count": 13,
   "metadata": {
    "slideshow": {
     "slide_type": "subslide"
    }
   },
   "outputs": [
    {
     "data": {
      "image/png": "[encoded data removed]",
      "text/plain": [
       "<Figure size 432x288 with 1 Axes>"
      ]
     },
     "metadata": {
      "needs_background": "light"
     },
     "output_type": "display_data"
    }
   ],
   "source": [
    "x = list(range(len(Y_true)))\n",
    "\n",
    "plt.scatter(x, Y_true, color=\"blue\", label=\"original\")\n",
    "plt.plot(x, Y_pred, color=\"red\", label=\"predicted\")\n",
    "plt.legend()\n",
    "plt.show() "
   ]
  }
 ],
 "metadata": {
  "celltoolbar": "Slideshow",
  "kernelspec": {
   "display_name": "Python 3",
   "language": "python",
   "name": "python3"
  },
  "language_info": {
   "codemirror_mode": {
    "name": "ipython",
    "version": 3
   },
   "file_extension": ".py",
   "mimetype": "text/x-python",
   "name": "python",
   "nbconvert_exporter": "python",
   "pygments_lexer": "ipython3",
   "version": "3.8.3"
  }
 },
 "nbformat": 4,
 "nbformat_minor": 4
}
